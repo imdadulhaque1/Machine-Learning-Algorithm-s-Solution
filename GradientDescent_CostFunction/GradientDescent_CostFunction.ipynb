{
 "cells": [
  {
   "cell_type": "code",
   "execution_count": 13,
   "metadata": {},
   "outputs": [],
   "source": [
    "import numpy as np\n",
    "import math\n",
    "\n",
    "def gradient_Descent(x,y):\n",
    "    m_curr = 0\n",
    "    b_curr = 0\n",
    "    iterations = 10\n",
    "    n = len(x)\n",
    "    learning_rate = 0.08\n",
    "    #learning_rate = float(input(\"Enter the Learning rate: \"))\n",
    "\n",
    "    for i in range(iterations):\n",
    "        yp = m_curr*x + b_curr\n",
    "        cost = (1/n)* sum([val**2 for val in (y-yp)])\n",
    "        md = -(2/n) * sum(x*(y-yp))\n",
    "        bd = -(2/n) * sum(y-yp)\n",
    "        m_curr = m_curr - learning_rate * md\n",
    "        b_curr = b_curr - learning_rate * bd\n",
    "        #print(\"m {}, b {}, cost {}, iteration {}\".format(m_curr, b_curr, cost, i))\n",
    "        print(f\"m{m_curr} b{b_curr} cost{cost} iteration{i}\")\n",
    "        pass\n",
    "    x = np.array([1,2,3,4,5])\n",
    "    y = np.array([5,7,9,11,13])\n",
    "\n",
    "    gradient_Descent(x,y)"
   ]
  },
  {
   "cell_type": "code",
   "execution_count": null,
   "metadata": {},
   "outputs": [],
   "source": []
  }
 ],
 "metadata": {
  "kernelspec": {
   "display_name": "Python 3",
   "language": "python",
   "name": "python3"
  },
  "language_info": {
   "codemirror_mode": {
    "name": "ipython",
    "version": 3
   },
   "file_extension": ".py",
   "mimetype": "text/x-python",
   "name": "python",
   "nbconvert_exporter": "python",
   "pygments_lexer": "ipython3",
   "version": "3.7.3"
  }
 },
 "nbformat": 4,
 "nbformat_minor": 2
}
